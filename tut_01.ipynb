{
 "cells": [
  {
   "cell_type": "markdown",
   "metadata": {},
   "source": [
    "# Working with data classes\n"
   ]
  },
  {
   "cell_type": "markdown",
   "metadata": {},
   "source": [
    "## Example 1"
   ]
  },
  {
   "cell_type": "markdown",
   "metadata": {},
   "source": [
    "### Step 1\n",
    "Data classes are defined in [db_classes.py](./db_classes.py)"
   ]
  },
  {
   "cell_type": "code",
   "execution_count": 6,
   "metadata": {},
   "outputs": [],
   "source": [
    "from sqlalchemy.orm import declarative_base\n",
    "from sqlalchemy.orm import relationship\n",
    "from sqlalchemy import Column, Integer, String\n",
    "\n",
    "Base = declarative_base()\n",
    "\n",
    "# define data classes with declarative form\n",
    "class User(Base):\n",
    "    __tablename__ = 'users'\n",
    "\n",
    "    id = Column(Integer, primary_key=True)\n",
    "    name = Column(String)\n",
    "    fullname = Column(String)\n",
    "    nickname = Column(String)\n",
    "\n",
    "    def __repr__(self):\n",
    "        return \"<User(name='%s', fullname='%s', nickname='%s')>\" % (\n",
    "                        self.name, self.fullname, self.nickname)\n",
    "            \n",
    "class Address(Base):\n",
    "    __tablename__ = 'address'\n",
    "\n",
    "    id = Column(Integer, primary_key=True)\n",
    "    street = Column(String)\n",
    "    city = Column(String)\n",
    "    state = Column(String)\n",
    "    zip = Column(String)"
   ]
  },
  {
   "cell_type": "markdown",
   "metadata": {},
   "source": [
    "### Step 2\n",
    "Start a new sqlalchemy engine with in-memory database + sqlite backend"
   ]
  },
  {
   "cell_type": "code",
   "execution_count": 7,
   "metadata": {},
   "outputs": [
    {
     "name": "stdout",
     "output_type": "stream",
     "text": [
      "2022-03-05 19:48:44,537 INFO sqlalchemy.engine.Engine BEGIN (implicit)\n",
      "2022-03-05 19:48:44,538 INFO sqlalchemy.engine.Engine PRAGMA main.table_info(\"users\")\n",
      "2022-03-05 19:48:44,538 INFO sqlalchemy.engine.Engine [raw sql] ()\n",
      "2022-03-05 19:48:44,539 INFO sqlalchemy.engine.Engine PRAGMA temp.table_info(\"users\")\n",
      "2022-03-05 19:48:44,540 INFO sqlalchemy.engine.Engine [raw sql] ()\n",
      "2022-03-05 19:48:44,540 INFO sqlalchemy.engine.Engine PRAGMA main.table_info(\"address\")\n",
      "2022-03-05 19:48:44,541 INFO sqlalchemy.engine.Engine [raw sql] ()\n",
      "2022-03-05 19:48:44,541 INFO sqlalchemy.engine.Engine PRAGMA temp.table_info(\"address\")\n",
      "2022-03-05 19:48:44,542 INFO sqlalchemy.engine.Engine [raw sql] ()\n",
      "2022-03-05 19:48:44,543 INFO sqlalchemy.engine.Engine \n",
      "CREATE TABLE users (\n",
      "\tid INTEGER NOT NULL, \n",
      "\tname VARCHAR, \n",
      "\tfullname VARCHAR, \n",
      "\tnickname VARCHAR, \n",
      "\tPRIMARY KEY (id)\n",
      ")\n",
      "\n",
      "\n",
      "2022-03-05 19:48:44,543 INFO sqlalchemy.engine.Engine [no key 0.00040s] ()\n",
      "2022-03-05 19:48:44,544 INFO sqlalchemy.engine.Engine \n",
      "CREATE TABLE address (\n",
      "\tid INTEGER NOT NULL, \n",
      "\tstreet VARCHAR, \n",
      "\tcity VARCHAR, \n",
      "\tstate VARCHAR, \n",
      "\tzip VARCHAR, \n",
      "\tPRIMARY KEY (id)\n",
      ")\n",
      "\n",
      "\n",
      "2022-03-05 19:48:44,545 INFO sqlalchemy.engine.Engine [no key 0.00050s] ()\n",
      "2022-03-05 19:48:44,546 INFO sqlalchemy.engine.Engine COMMIT\n"
     ]
    }
   ],
   "source": [
    "from sqlalchemy import create_engine\n",
    "engine = create_engine(\"sqlite+pysqlite:///:memory:\", echo=True, future=True)\n",
    "Base.metadata.create_all(engine)"
   ]
  },
  {
   "cell_type": "markdown",
   "metadata": {},
   "source": [
    "### Step 3\n",
    "Create a new user"
   ]
  },
  {
   "cell_type": "code",
   "execution_count": 8,
   "metadata": {},
   "outputs": [
    {
     "name": "stdout",
     "output_type": "stream",
     "text": [
      "<User(name='sandy', fullname='Sandy Cheeks', nickname='None')>\n"
     ]
    }
   ],
   "source": [
    "sandy = User(name=\"sandy\", fullname=\"Sandy Cheeks\")\n",
    "\n",
    "# display user class data on stdout\n",
    "print(sandy)"
   ]
  },
  {
   "cell_type": "markdown",
   "metadata": {},
   "source": [
    "### Step 4\n",
    "Creating a session"
   ]
  },
  {
   "cell_type": "code",
   "execution_count": 9,
   "metadata": {},
   "outputs": [],
   "source": [
    "from sqlalchemy.orm import sessionmaker\n",
    "Session = sessionmaker(bind=engine)\n",
    "session = Session()"
   ]
  },
  {
   "cell_type": "markdown",
   "metadata": {},
   "source": [
    "### Step 5\n",
    "Adding and updating objects"
   ]
  },
  {
   "cell_type": "code",
   "execution_count": 10,
   "metadata": {},
   "outputs": [
    {
     "name": "stdout",
     "output_type": "stream",
     "text": [
      "2022-03-05 19:48:44,655 INFO sqlalchemy.engine.Engine BEGIN (implicit)\n",
      "2022-03-05 19:48:44,656 INFO sqlalchemy.engine.Engine INSERT INTO users (name, fullname, nickname) VALUES (?, ?, ?)\n",
      "2022-03-05 19:48:44,657 INFO sqlalchemy.engine.Engine [generated in 0.00062s] ('ed', 'Ed Jones', 'edsnickname')\n",
      "2022-03-05 19:48:44,659 INFO sqlalchemy.engine.Engine SELECT users.id AS users_id, users.name AS users_name, users.fullname AS users_fullname, users.nickname AS users_nickname \n",
      "FROM users \n",
      "WHERE users.name = ?\n",
      " LIMIT ? OFFSET ?\n",
      "2022-03-05 19:48:44,660 INFO sqlalchemy.engine.Engine [generated in 0.00061s] ('ed', 1, 0)\n"
     ]
    }
   ],
   "source": [
    "ed_user = User(name='ed', fullname='Ed Jones', nickname='edsnickname')\n",
    "session.add(ed_user)\n",
    "our_user = session.query(User).filter_by(name='ed').first() "
   ]
  }
 ],
 "metadata": {
  "interpreter": {
   "hash": "1b43296e77fa391223305bcfcfb6cb9c212b80f913c8757d6af04d7b618a64d8"
  },
  "kernelspec": {
   "display_name": "Python 3.10.2 ('env': venv)",
   "language": "python",
   "name": "python3"
  },
  "language_info": {
   "codemirror_mode": {
    "name": "ipython",
    "version": 3
   },
   "file_extension": ".py",
   "mimetype": "text/x-python",
   "name": "python",
   "nbconvert_exporter": "python",
   "pygments_lexer": "ipython3",
   "version": "3.10.2"
  },
  "orig_nbformat": 4
 },
 "nbformat": 4,
 "nbformat_minor": 2
}

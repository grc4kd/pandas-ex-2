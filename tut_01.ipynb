{
 "cells": [
  {
   "cell_type": "markdown",
   "metadata": {},
   "source": [
    "# Working with data classes\n"
   ]
  },
  {
   "cell_type": "markdown",
   "metadata": {},
   "source": [
    "## Example 1"
   ]
  },
  {
   "cell_type": "markdown",
   "metadata": {},
   "source": [
    "### Step 1\n",
    "Data classes are defined in [db_classes.py](./db_classes.py)"
   ]
  },
  {
   "cell_type": "code",
   "execution_count": 1,
   "metadata": {},
   "outputs": [],
   "source": [
    "from sqlalchemy.orm import declarative_base\n",
    "from sqlalchemy.orm import relationship\n",
    "from sqlalchemy import Column, Integer, String\n",
    "\n",
    "Base = declarative_base()\n",
    "\n",
    "# define data classes with declarative form\n",
    "class User(Base):\n",
    "    __tablename__ = 'users'\n",
    "\n",
    "    id = Column(Integer, primary_key=True)\n",
    "    name = Column(String)\n",
    "    fullname = Column(String)\n",
    "    nickname = Column(String)\n",
    "\n",
    "    def __repr__(self):\n",
    "        return \"<User(name='%s', fullname='%s', nickname='%s')>\" % (\n",
    "                        self.name, self.fullname, self.nickname)\n",
    "            \n",
    "class Address(Base):\n",
    "    __tablename__ = 'address'\n",
    "\n",
    "    id = Column(Integer, primary_key=True)\n",
    "    street = Column(String)\n",
    "    city = Column(String)\n",
    "    state = Column(String)\n",
    "    zip = Column(String)"
   ]
  },
  {
   "cell_type": "markdown",
   "metadata": {},
   "source": [
    "### Step 2\n",
    "Start a new sqlalchemy engine with in-memory database + sqlite backend"
   ]
  },
  {
   "cell_type": "code",
   "execution_count": 2,
   "metadata": {},
   "outputs": [],
   "source": [
    "from sqlalchemy import create_engine\n",
    "engine = create_engine(\"sqlite+pysqlite:///:memory:\", echo=True, future=True)"
   ]
  },
  {
   "cell_type": "markdown",
   "metadata": {},
   "source": [
    "### Step 3\n",
    "Create a new user"
   ]
  },
  {
   "cell_type": "code",
   "execution_count": 3,
   "metadata": {},
   "outputs": [
    {
     "name": "stdout",
     "output_type": "stream",
     "text": [
      "<User(name='sandy', fullname='Sandy Cheeks', nickname='None')>\n"
     ]
    }
   ],
   "source": [
    "from db_classes import User\n",
    "\n",
    "sandy = User(name=\"sandy\", fullname=\"Sandy Cheeks\")\n",
    "\n",
    "# display user class data on stdout\n",
    "print(sandy)"
   ]
  }
 ],
 "metadata": {
  "interpreter": {
   "hash": "1b43296e77fa391223305bcfcfb6cb9c212b80f913c8757d6af04d7b618a64d8"
  },
  "kernelspec": {
   "display_name": "Python 3.10.2 ('env': venv)",
   "language": "python",
   "name": "python3"
  },
  "language_info": {
   "codemirror_mode": {
    "name": "ipython",
    "version": 3
   },
   "file_extension": ".py",
   "mimetype": "text/x-python",
   "name": "python",
   "nbconvert_exporter": "python",
   "pygments_lexer": "ipython3",
   "version": "3.10.2"
  },
  "orig_nbformat": 4
 },
 "nbformat": 4,
 "nbformat_minor": 2
}
